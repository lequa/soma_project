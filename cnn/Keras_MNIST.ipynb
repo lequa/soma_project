{
 "cells": [
  {
   "cell_type": "code",
   "execution_count": 6,
   "metadata": {},
   "outputs": [],
   "source": [
    "from keras.datasets import mnist\n",
    "(x_train, y_train), (x_test, y_test) = mnist.load_data()"
   ]
  },
  {
   "cell_type": "code",
   "execution_count": 7,
   "metadata": {},
   "outputs": [],
   "source": [
    "from sklearn.model_selection import train_test_split\n",
    "x_train1, x_valid, y_train1, y_valid = train_test_split(x_train, y_train, test_size=0.175)"
   ]
  },
  {
   "cell_type": "code",
   "execution_count": 8,
   "metadata": {},
   "outputs": [],
   "source": [
    "from keras.models import Sequential\n",
    "from keras.layers import Dense, Dropout, Flatten\n",
    "from keras.layers import Conv2D, MaxPooling2D\n",
    "\n",
    "model = Sequential()\n",
    "model.add(Conv2D(32, kernel_size=(3, 3), activation='relu', input_shape=(28, 28, 1)))\n",
    "model.add(MaxPooling2D(pool_size=(2, 2)))\n",
    "model.add(Conv2D(64, (3, 3), activation='relu'))\n",
    "model.add(MaxPooling2D(pool_size=(2, 2)))\n",
    "model.add(Dropout(0.25))\n",
    "model.add(Flatten())\n",
    "model.add(Dense(128, activation='relu'))\n",
    "model.add(Dropout(0.5))\n",
    "model.add(Dense(10, activation='softmax'))"
   ]
  },
  {
   "cell_type": "code",
   "execution_count": 9,
   "metadata": {},
   "outputs": [],
   "source": [
    "import keras\n",
    "\n",
    "x_train = x_train.reshape(x_train.shape[0], 28, 28, 1)\n",
    "x_valid = x_valid.reshape(x_valid.shape[0], 28, 28, 1)\n",
    "x_test = x_test.reshape(x_test.shape[0], 28, 28, 1)\n",
    "\n",
    "x_train = x_train.astype('float32')\n",
    "x_valid = x_valid.astype('float32')\n",
    "x_test = x_test.astype('float32')\n",
    "x_train /= 255\n",
    "x_valid /= 255\n",
    "x_test /= 255\n",
    "\n",
    "y_train = keras.utils.to_categorical(y_train, 10)\n",
    "y_valid = keras.utils.to_categorical(y_valid, 10)\n",
    "y_test = keras.utils.to_categorical(y_test, 10)"
   ]
  },
  {
   "cell_type": "code",
   "execution_count": 10,
   "metadata": {
    "scrolled": true
   },
   "outputs": [
    {
     "name": "stdout",
     "output_type": "stream",
     "text": [
      "Train on 60000 samples, validate on 10500 samples\n",
      "Epoch 1/10\n",
      "60000/60000 [==============================] - 22s 369us/step - loss: 0.2821 - accuracy: 0.9122 - val_loss: 0.0859 - val_accuracy: 0.9750\n",
      "Epoch 2/10\n",
      "60000/60000 [==============================] - 19s 311us/step - loss: 0.0991 - accuracy: 0.9701 - val_loss: 0.0505 - val_accuracy: 0.9845\n",
      "Epoch 3/10\n",
      "60000/60000 [==============================] - 20s 325us/step - loss: 0.0770 - accuracy: 0.9775 - val_loss: 0.0442 - val_accuracy: 0.9865\n",
      "Epoch 4/10\n",
      "60000/60000 [==============================] - 20s 327us/step - loss: 0.0611 - accuracy: 0.9823 - val_loss: 0.0451 - val_accuracy: 0.9875\n",
      "Epoch 5/10\n",
      "60000/60000 [==============================] - 19s 325us/step - loss: 0.0540 - accuracy: 0.9843 - val_loss: 0.0286 - val_accuracy: 0.9919\n",
      "Epoch 6/10\n",
      "60000/60000 [==============================] - 19s 322us/step - loss: 0.0477 - accuracy: 0.9858 - val_loss: 0.0272 - val_accuracy: 0.9920\n",
      "Epoch 7/10\n",
      "60000/60000 [==============================] - 19s 311us/step - loss: 0.0448 - accuracy: 0.9865 - val_loss: 0.0236 - val_accuracy: 0.9936\n",
      "Epoch 8/10\n",
      "60000/60000 [==============================] - 19s 313us/step - loss: 0.0421 - accuracy: 0.9875 - val_loss: 0.0232 - val_accuracy: 0.9939\n",
      "Epoch 9/10\n",
      "60000/60000 [==============================] - 19s 310us/step - loss: 0.0406 - accuracy: 0.9883 - val_loss: 0.0201 - val_accuracy: 0.9950\n",
      "Epoch 10/10\n",
      "60000/60000 [==============================] - 19s 309us/step - loss: 0.0411 - accuracy: 0.9880 - val_loss: 0.0208 - val_accuracy: 0.9943\n"
     ]
    }
   ],
   "source": [
    "from keras.optimizers import RMSprop\n",
    "\n",
    "model.compile(loss='categorical_crossentropy',\n",
    "              optimizer=RMSprop(),\n",
    "              metrics=['accuracy'])\n",
    "\n",
    "history = model.fit(x_train, y_train,\n",
    "                    batch_size=128,\n",
    "                    epochs=10,\n",
    "                    verbose=1,\n",
    "                    validation_data=(x_valid, y_valid))"
   ]
  },
  {
   "cell_type": "code",
   "execution_count": 11,
   "metadata": {},
   "outputs": [
    {
     "name": "stdout",
     "output_type": "stream",
     "text": [
      "Test loss: 0.023884490963416466\n",
      "Test accuracy: 0.9922000169754028\n"
     ]
    }
   ],
   "source": [
    "score = model.evaluate(x_test, y_test, verbose=0)\n",
    "print('Test loss:', score[0])\n",
    "print('Test accuracy:', score[1])"
   ]
  },
  {
   "cell_type": "markdown",
   "metadata": {},
   "source": []
  }
 ],
 "metadata": {
  "kernelspec": {
   "display_name": "Python 3",
   "language": "python",
   "name": "python3"
  },
  "language_info": {
   "codemirror_mode": {
    "name": "ipython",
    "version": 3
   },
   "file_extension": ".py",
   "mimetype": "text/x-python",
   "name": "python",
   "nbconvert_exporter": "python",
   "pygments_lexer": "ipython3",
   "version": "3.7.3"
  },
  "toc": {
   "base_numbering": 1,
   "nav_menu": {},
   "number_sections": true,
   "sideBar": true,
   "skip_h1_title": false,
   "title_cell": "Table of Contents",
   "title_sidebar": "Contents",
   "toc_cell": false,
   "toc_position": {},
   "toc_section_display": true,
   "toc_window_display": false
  }
 },
 "nbformat": 4,
 "nbformat_minor": 2
}
